{
 "cells": [
  {
   "cell_type": "markdown",
   "metadata": {},
   "source": [
    "# **Decision Tree from Scratch**\n"
   ]
  },
  {
   "cell_type": "markdown",
   "metadata": {},
   "source": [
    "In this course, you will learn everything you need to know about Decision Trees and how they work under the hood. Hope you'll find this helpful"
   ]
  },
  {
   "cell_type": "markdown",
   "metadata": {},
   "source": [
    "# **Table Of Contents**\n",
    "\n",
    "1. [Introduction to Decision Trees](#1)"
   ]
  },
  {
   "cell_type": "markdown",
   "metadata": {},
   "source": [
    "# **1. Introduction to Decision Trees** <a class=\"anchor\" id=\"1\"></a>"
   ]
  },
  {
   "cell_type": "markdown",
   "metadata": {},
   "source": [
    "So what are **Decision Trees**?"
   ]
  },
  {
   "cell_type": "markdown",
   "metadata": {},
   "source": [
    "**Decision Trees** are non-parametric (model complexity can grow with the amount of data allowing it to capture more complex patterns) supervised learning algorithm, \n",
    "which can be use for both Classification and Regression tasks. It has a hierachical, tree structure, which consists of a root node, branches, internal nodes and leaf nodes.\n",
    "\n"
   ]
  },
  {
   "cell_type": "markdown",
   "metadata": {},
   "source": [
    "## 1.1 Decision Trees component"
   ]
  },
  {
   "cell_type": "markdown",
   "metadata": {},
   "source": [
    "- **Root Node** : Very first node of the tree it represents the entire dataset and the initial decision made by the algorithm.\n",
    "\n",
    "- **Branches** : Represent the result of a node decision. For example at a node level we can have x1 > 5 the result of this can be either True or False, so we will have two branches, one for the case the result is True and the other for the case the result is False.\n",
    "\n",
    "- **Internal Nodes** : Represent decision points where the data is split based on feature's value. These nodes apply conditions to the features in the dataset and direct the data down to leaf nodes.\n",
    "\n",
    "- **Leaf Nodes** : Represent the final prediction, no further splits happen at this nodes."
   ]
  },
  {
   "cell_type": "code",
   "execution_count": null,
   "metadata": {},
   "outputs": [],
   "source": []
  }
 ],
 "metadata": {
  "language_info": {
   "name": "python"
  }
 },
 "nbformat": 4,
 "nbformat_minor": 2
}
